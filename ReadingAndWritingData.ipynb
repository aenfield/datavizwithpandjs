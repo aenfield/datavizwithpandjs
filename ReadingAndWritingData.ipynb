{
 "cells": [
  {
   "cell_type": "code",
   "execution_count": 124,
   "metadata": {
    "collapsed": true
   },
   "outputs": [],
   "source": [
    "import sqlalchemy as sa\n",
    "import sqlalchemy.ext.declarative as sad"
   ]
  },
  {
   "cell_type": "code",
   "execution_count": 125,
   "metadata": {
    "collapsed": true
   },
   "outputs": [],
   "source": [
    "engine = sa.create_engine('sqlite:///data/nobel_prize.db', echo=True)"
   ]
  },
  {
   "cell_type": "code",
   "execution_count": 126,
   "metadata": {
    "collapsed": false
   },
   "outputs": [],
   "source": [
    "Base = sad.declarative_base()"
   ]
  },
  {
   "cell_type": "code",
   "execution_count": 127,
   "metadata": {
    "collapsed": false
   },
   "outputs": [],
   "source": [
    "class Winner(Base):\n",
    "    __tablename__ = 'winners'\n",
    "    \n",
    "    id = sa.Column(sa.Integer, primary_key=True)\n",
    "    name = sa.Column(sa.String)\n",
    "    category = sa.Column(sa.String)\n",
    "    year = sa.Column(sa.Integer)\n",
    "    nationality = sa.Column(sa.String)\n",
    "    sex = sa.Column(sa.Enum('male','female'))\n",
    "    \n",
    "    def __repr__(self):\n",
    "        return \"<Winner(name='%s', category='%s', year='%s')\"%(self.name, self.category, self.year)"
   ]
  },
  {
   "cell_type": "code",
   "execution_count": 128,
   "metadata": {
    "collapsed": false
   },
   "outputs": [
    {
     "name": "stdout",
     "output_type": "stream",
     "text": [
      "2016-12-20 09:03:27,498 INFO sqlalchemy.engine.base.Engine SELECT CAST('test plain returns' AS VARCHAR(60)) AS anon_1\n",
      "2016-12-20 09:03:27,499 INFO sqlalchemy.engine.base.Engine ()\n",
      "2016-12-20 09:03:27,501 INFO sqlalchemy.engine.base.Engine SELECT CAST('test unicode returns' AS VARCHAR(60)) AS anon_1\n",
      "2016-12-20 09:03:27,502 INFO sqlalchemy.engine.base.Engine ()\n",
      "2016-12-20 09:03:27,503 INFO sqlalchemy.engine.base.Engine PRAGMA table_info(\"winners\")\n",
      "2016-12-20 09:03:27,505 INFO sqlalchemy.engine.base.Engine ()\n",
      "2016-12-20 09:03:27,507 INFO sqlalchemy.engine.base.Engine \n",
      "CREATE TABLE winners (\n",
      "\tid INTEGER NOT NULL, \n",
      "\tname VARCHAR, \n",
      "\tcategory VARCHAR, \n",
      "\tyear INTEGER, \n",
      "\tnationality VARCHAR, \n",
      "\tsex VARCHAR(6), \n",
      "\tPRIMARY KEY (id), \n",
      "\tCHECK (sex IN ('male', 'female'))\n",
      ")\n",
      "\n",
      "\n",
      "2016-12-20 09:03:27,508 INFO sqlalchemy.engine.base.Engine ()\n",
      "2016-12-20 09:03:27,511 INFO sqlalchemy.engine.base.Engine COMMIT\n"
     ]
    }
   ],
   "source": [
    "Base.metadata.create_all(engine)"
   ]
  },
  {
   "cell_type": "code",
   "execution_count": 129,
   "metadata": {
    "collapsed": true
   },
   "outputs": [],
   "source": [
    "import sqlalchemy.orm as sorm"
   ]
  },
  {
   "cell_type": "code",
   "execution_count": 130,
   "metadata": {
    "collapsed": true
   },
   "outputs": [],
   "source": [
    "Session = sorm.sessionmaker(bind=engine)\n",
    "session = Session()"
   ]
  },
  {
   "cell_type": "code",
   "execution_count": 131,
   "metadata": {
    "collapsed": false
   },
   "outputs": [
    {
     "data": {
      "text/plain": [
       "[{'category': 'Physics',\n",
       "  'name': 'Albert Einstein',\n",
       "  'nationality': 'Swiss',\n",
       "  'sex': 'male',\n",
       "  'year': 1921},\n",
       " {'category': 'Physics',\n",
       "  'name': 'Paul Dirac',\n",
       "  'nationality': 'British',\n",
       "  'sex': 'male',\n",
       "  'year': 1933},\n",
       " {'category': 'Chemistry',\n",
       "  'name': 'Marie Curie',\n",
       "  'nationality': 'Polish',\n",
       "  'sex': 'female',\n",
       "  'year': 1911}]"
      ]
     },
     "execution_count": 131,
     "metadata": {},
     "output_type": "execute_result"
    }
   ],
   "source": [
    "data = [{'category': 'Physics',\n",
    "         'name': 'Albert Einstein',\n",
    "         'nationality': 'Swiss',\n",
    "         'sex': 'male',\n",
    "         'year': 1921},\n",
    "        {'category': 'Physics',\n",
    "         'name': 'Paul Dirac',\n",
    "         'nationality': 'British',\n",
    "         'sex': 'male',\n",
    "         'year': 1933},\n",
    "        {'category': 'Chemistry',\n",
    "         'name': 'Marie Curie',\n",
    "         'nationality': 'Polish',\n",
    "         'sex': 'female',\n",
    "         'year': 1911}]\n",
    "data"
   ]
  },
  {
   "cell_type": "code",
   "execution_count": 132,
   "metadata": {
    "collapsed": false
   },
   "outputs": [
    {
     "data": {
      "text/plain": [
       "IdentitySet([<Winner(name='Albert Einstein', category='Physics', year='1921')])"
      ]
     },
     "execution_count": 132,
     "metadata": {},
     "output_type": "execute_result"
    }
   ],
   "source": [
    "albert = Winner(**data[0])\n",
    "session.add(albert)\n",
    "session.new"
   ]
  },
  {
   "cell_type": "code",
   "execution_count": 133,
   "metadata": {
    "collapsed": false
   },
   "outputs": [
    {
     "data": {
      "text/plain": [
       "IdentitySet([])"
      ]
     },
     "execution_count": 133,
     "metadata": {},
     "output_type": "execute_result"
    }
   ],
   "source": [
    "session.expunge(albert)\n",
    "session.new"
   ]
  },
  {
   "cell_type": "code",
   "execution_count": 134,
   "metadata": {
    "collapsed": false
   },
   "outputs": [
    {
     "name": "stdout",
     "output_type": "stream",
     "text": [
      "2016-12-20 09:03:27,565 INFO sqlalchemy.engine.base.Engine BEGIN (implicit)\n",
      "2016-12-20 09:03:27,568 INFO sqlalchemy.engine.base.Engine INSERT INTO winners (name, category, year, nationality, sex) VALUES (?, ?, ?, ?, ?)\n",
      "2016-12-20 09:03:27,570 INFO sqlalchemy.engine.base.Engine ('Albert Einstein', 'Physics', 1921, 'Swiss', 'male')\n",
      "2016-12-20 09:03:27,571 INFO sqlalchemy.engine.base.Engine INSERT INTO winners (name, category, year, nationality, sex) VALUES (?, ?, ?, ?, ?)\n",
      "2016-12-20 09:03:27,572 INFO sqlalchemy.engine.base.Engine ('Paul Dirac', 'Physics', 1933, 'British', 'male')\n",
      "2016-12-20 09:03:27,573 INFO sqlalchemy.engine.base.Engine INSERT INTO winners (name, category, year, nationality, sex) VALUES (?, ?, ?, ?, ?)\n",
      "2016-12-20 09:03:27,574 INFO sqlalchemy.engine.base.Engine ('Marie Curie', 'Chemistry', 1911, 'Polish', 'female')\n",
      "2016-12-20 09:03:27,575 INFO sqlalchemy.engine.base.Engine COMMIT\n"
     ]
    }
   ],
   "source": [
    "winner_rows = [Winner(**w) for w in data]\n",
    "session.add_all(winner_rows)\n",
    "session.commit()"
   ]
  },
  {
   "cell_type": "code",
   "execution_count": 135,
   "metadata": {
    "collapsed": false
   },
   "outputs": [
    {
     "name": "stdout",
     "output_type": "stream",
     "text": [
      "2016-12-20 09:03:27,588 INFO sqlalchemy.engine.base.Engine BEGIN (implicit)\n",
      "2016-12-20 09:03:27,590 INFO sqlalchemy.engine.base.Engine SELECT count(*) AS count_1 \n",
      "FROM (SELECT winners.id AS winners_id, winners.name AS winners_name, winners.category AS winners_category, winners.year AS winners_year, winners.nationality AS winners_nationality, winners.sex AS winners_sex \n",
      "FROM winners) AS anon_1\n",
      "2016-12-20 09:03:27,591 INFO sqlalchemy.engine.base.Engine ()\n"
     ]
    },
    {
     "data": {
      "text/plain": [
       "3"
      ]
     },
     "execution_count": 135,
     "metadata": {},
     "output_type": "execute_result"
    }
   ],
   "source": [
    "session.query(Winner).count()"
   ]
  },
  {
   "cell_type": "code",
   "execution_count": 136,
   "metadata": {
    "collapsed": true
   },
   "outputs": [],
   "source": [
    "result = session.query(Winner).filter_by(nationality = 'Swiss')"
   ]
  },
  {
   "cell_type": "code",
   "execution_count": 137,
   "metadata": {
    "collapsed": false
   },
   "outputs": [
    {
     "name": "stdout",
     "output_type": "stream",
     "text": [
      "2016-12-20 09:03:27,605 INFO sqlalchemy.engine.base.Engine SELECT winners.id AS winners_id, winners.name AS winners_name, winners.category AS winners_category, winners.year AS winners_year, winners.nationality AS winners_nationality, winners.sex AS winners_sex \n",
      "FROM winners \n",
      "WHERE winners.nationality = ?\n",
      "2016-12-20 09:03:27,606 INFO sqlalchemy.engine.base.Engine ('Swiss',)\n"
     ]
    },
    {
     "data": {
      "text/plain": [
       "[<Winner(name='Albert Einstein', category='Physics', year='1921')]"
      ]
     },
     "execution_count": 137,
     "metadata": {},
     "output_type": "execute_result"
    }
   ],
   "source": [
    "list(result)"
   ]
  },
  {
   "cell_type": "code",
   "execution_count": 138,
   "metadata": {
    "collapsed": false
   },
   "outputs": [
    {
     "name": "stdout",
     "output_type": "stream",
     "text": [
      "2016-12-20 09:03:27,617 INFO sqlalchemy.engine.base.Engine SELECT winners.id AS winners_id, winners.name AS winners_name, winners.category AS winners_category, winners.year AS winners_year, winners.nationality AS winners_nationality, winners.sex AS winners_sex \n",
      "FROM winners \n",
      "WHERE winners.nationality = ?\n",
      "2016-12-20 09:03:27,618 INFO sqlalchemy.engine.base.Engine ('Swiss',)\n"
     ]
    },
    {
     "data": {
      "text/plain": [
       "[<Winner(name='Albert Einstein', category='Physics', year='1921')]"
      ]
     },
     "execution_count": 138,
     "metadata": {},
     "output_type": "execute_result"
    }
   ],
   "source": [
    "list(session.query(Winner).filter(Winner.nationality == 'Swiss'))"
   ]
  },
  {
   "cell_type": "code",
   "execution_count": 139,
   "metadata": {
    "collapsed": false
   },
   "outputs": [
    {
     "name": "stdout",
     "output_type": "stream",
     "text": [
      "2016-12-20 09:03:27,626 INFO sqlalchemy.engine.base.Engine SELECT winners.id AS winners_id, winners.name AS winners_name, winners.category AS winners_category, winners.year AS winners_year, winners.nationality AS winners_nationality, winners.sex AS winners_sex \n",
      "FROM winners \n",
      "WHERE winners.category = ? AND winners.category != ?\n",
      "2016-12-20 09:03:27,627 INFO sqlalchemy.engine.base.Engine ('Physics', 'Swiss')\n"
     ]
    },
    {
     "data": {
      "text/plain": [
       "[<Winner(name='Albert Einstein', category='Physics', year='1921'),\n",
       " <Winner(name='Paul Dirac', category='Physics', year='1933')]"
      ]
     },
     "execution_count": 139,
     "metadata": {},
     "output_type": "execute_result"
    }
   ],
   "source": [
    "result = session.query(Winner).filter(Winner.category == 'Physics',\n",
    "                                      Winner.category != 'Swiss')\n",
    "list(result)"
   ]
  },
  {
   "cell_type": "code",
   "execution_count": 140,
   "metadata": {
    "collapsed": false
   },
   "outputs": [
    {
     "name": "stdout",
     "output_type": "stream",
     "text": [
      "2016-12-20 09:03:27,635 INFO sqlalchemy.engine.base.Engine SELECT winners.id AS winners_id, winners.name AS winners_name, winners.category AS winners_category, winners.year AS winners_year, winners.nationality AS winners_nationality, winners.sex AS winners_sex \n",
      "FROM winners \n",
      "WHERE winners.id = ?\n",
      "2016-12-20 09:03:27,636 INFO sqlalchemy.engine.base.Engine (3,)\n"
     ]
    },
    {
     "data": {
      "text/plain": [
       "<Winner(name='Marie Curie', category='Chemistry', year='1911')"
      ]
     },
     "execution_count": 140,
     "metadata": {},
     "output_type": "execute_result"
    }
   ],
   "source": [
    "session.query(Winner).get(3)"
   ]
  },
  {
   "cell_type": "code",
   "execution_count": 141,
   "metadata": {
    "collapsed": false
   },
   "outputs": [
    {
     "name": "stdout",
     "output_type": "stream",
     "text": [
      "2016-12-20 09:03:27,645 INFO sqlalchemy.engine.base.Engine SELECT winners.id AS winners_id, winners.name AS winners_name, winners.category AS winners_category, winners.year AS winners_year, winners.nationality AS winners_nationality, winners.sex AS winners_sex \n",
      "FROM winners ORDER BY winners.year\n",
      "2016-12-20 09:03:27,647 INFO sqlalchemy.engine.base.Engine ()\n"
     ]
    },
    {
     "data": {
      "text/plain": [
       "[<Winner(name='Marie Curie', category='Chemistry', year='1911'),\n",
       " <Winner(name='Albert Einstein', category='Physics', year='1921'),\n",
       " <Winner(name='Paul Dirac', category='Physics', year='1933')]"
      ]
     },
     "execution_count": 141,
     "metadata": {},
     "output_type": "execute_result"
    }
   ],
   "source": [
    "result = session.query(Winner).order_by('year')\n",
    "list(result)"
   ]
  },
  {
   "cell_type": "code",
   "execution_count": 142,
   "metadata": {
    "collapsed": true
   },
   "outputs": [],
   "source": [
    "def sa_inst_to_dict(inst, remove_id=True):\n",
    "    d = {}\n",
    "    \n",
    "    for column in inst.__table__.columns:\n",
    "        d[column.name] = getattr(inst, column.name)\n",
    "    \n",
    "    if remove_id:\n",
    "        d.pop('id')\n",
    "\n",
    "    return d"
   ]
  },
  {
   "cell_type": "code",
   "execution_count": 143,
   "metadata": {
    "collapsed": false
   },
   "outputs": [
    {
     "name": "stdout",
     "output_type": "stream",
     "text": [
      "2016-12-20 09:03:27,665 INFO sqlalchemy.engine.base.Engine SELECT winners.id AS winners_id, winners.name AS winners_name, winners.category AS winners_category, winners.year AS winners_year, winners.nationality AS winners_nationality, winners.sex AS winners_sex \n",
      "FROM winners\n",
      "2016-12-20 09:03:27,666 INFO sqlalchemy.engine.base.Engine ()\n"
     ]
    },
    {
     "data": {
      "text/plain": [
       "[{'category': 'Physics',\n",
       "  'name': 'Albert Einstein',\n",
       "  'nationality': 'Swiss',\n",
       "  'sex': 'male',\n",
       "  'year': 1921},\n",
       " {'category': 'Physics',\n",
       "  'name': 'Paul Dirac',\n",
       "  'nationality': 'British',\n",
       "  'sex': 'male',\n",
       "  'year': 1933},\n",
       " {'category': 'Chemistry',\n",
       "  'name': 'Marie Curie',\n",
       "  'nationality': 'Polish',\n",
       "  'sex': 'female',\n",
       "  'year': 1911}]"
      ]
     },
     "execution_count": 143,
     "metadata": {},
     "output_type": "execute_result"
    }
   ],
   "source": [
    "winner_rows = session.query(Winner)\n",
    "nobel_winners = [sa_inst_to_dict(w) for w in winner_rows]\n",
    "nobel_winners"
   ]
  },
  {
   "cell_type": "code",
   "execution_count": 144,
   "metadata": {
    "collapsed": false
   },
   "outputs": [
    {
     "data": {
      "text/plain": [
       "IdentitySet([<Winner(name='Marie Curie', category='Chemistry', year='1911')])"
      ]
     },
     "execution_count": 144,
     "metadata": {},
     "output_type": "execute_result"
    }
   ],
   "source": [
    "marie = session.query(Winner).get(3)\n",
    "marie.nationality = 'French'\n",
    "session.dirty"
   ]
  },
  {
   "cell_type": "code",
   "execution_count": 145,
   "metadata": {
    "collapsed": false
   },
   "outputs": [
    {
     "name": "stdout",
     "output_type": "stream",
     "text": [
      "2016-12-20 09:03:27,684 INFO sqlalchemy.engine.base.Engine UPDATE winners SET nationality=? WHERE winners.id = ?\n",
      "2016-12-20 09:03:27,686 INFO sqlalchemy.engine.base.Engine ('French', 3)\n",
      "2016-12-20 09:03:27,688 INFO sqlalchemy.engine.base.Engine COMMIT\n"
     ]
    }
   ],
   "source": [
    "session.commit()"
   ]
  },
  {
   "cell_type": "code",
   "execution_count": 146,
   "metadata": {
    "collapsed": false
   },
   "outputs": [
    {
     "data": {
      "text/plain": [
       "IdentitySet([])"
      ]
     },
     "execution_count": 146,
     "metadata": {},
     "output_type": "execute_result"
    }
   ],
   "source": [
    "session.dirty"
   ]
  },
  {
   "cell_type": "code",
   "execution_count": 147,
   "metadata": {
    "collapsed": false
   },
   "outputs": [
    {
     "name": "stdout",
     "output_type": "stream",
     "text": [
      "2016-12-20 09:03:27,703 INFO sqlalchemy.engine.base.Engine BEGIN (implicit)\n",
      "2016-12-20 09:03:27,705 INFO sqlalchemy.engine.base.Engine SELECT winners.id AS winners_id, winners.name AS winners_name, winners.category AS winners_category, winners.year AS winners_year, winners.nationality AS winners_nationality, winners.sex AS winners_sex \n",
      "FROM winners \n",
      "WHERE winners.id = ?\n",
      "2016-12-20 09:03:27,707 INFO sqlalchemy.engine.base.Engine (3,)\n"
     ]
    },
    {
     "data": {
      "text/plain": [
       "'French'"
      ]
     },
     "execution_count": 147,
     "metadata": {},
     "output_type": "execute_result"
    }
   ],
   "source": [
    "session.query(Winner).get(3).nationality"
   ]
  },
  {
   "cell_type": "code",
   "execution_count": 148,
   "metadata": {
    "collapsed": false
   },
   "outputs": [],
   "source": [
    "#session.query(Winner).filter_by(name='Albert Einstein').delete()"
   ]
  },
  {
   "cell_type": "code",
   "execution_count": 149,
   "metadata": {
    "collapsed": false
   },
   "outputs": [
    {
     "name": "stdout",
     "output_type": "stream",
     "text": [
      "2016-12-20 09:03:27,723 INFO sqlalchemy.engine.base.Engine SELECT winners.id AS winners_id, winners.name AS winners_name, winners.category AS winners_category, winners.year AS winners_year, winners.nationality AS winners_nationality, winners.sex AS winners_sex \n",
      "FROM winners\n",
      "2016-12-20 09:03:27,725 INFO sqlalchemy.engine.base.Engine ()\n"
     ]
    },
    {
     "data": {
      "text/plain": [
       "[<Winner(name='Albert Einstein', category='Physics', year='1921'),\n",
       " <Winner(name='Paul Dirac', category='Physics', year='1933'),\n",
       " <Winner(name='Marie Curie', category='Chemistry', year='1911')]"
      ]
     },
     "execution_count": 149,
     "metadata": {},
     "output_type": "execute_result"
    }
   ],
   "source": [
    "list(session.query(Winner))"
   ]
  },
  {
   "cell_type": "code",
   "execution_count": 150,
   "metadata": {
    "collapsed": false
   },
   "outputs": [],
   "source": [
    "#Winner.__table__.drop(engine)"
   ]
  },
  {
   "cell_type": "code",
   "execution_count": null,
   "metadata": {
    "collapsed": true
   },
   "outputs": [],
   "source": []
  }
 ],
 "metadata": {
  "anaconda-cloud": {},
  "kernelspec": {
   "display_name": "Python [default]",
   "language": "python",
   "name": "python3"
  },
  "language_info": {
   "codemirror_mode": {
    "name": "ipython",
    "version": 3
   },
   "file_extension": ".py",
   "mimetype": "text/x-python",
   "name": "python",
   "nbconvert_exporter": "python",
   "pygments_lexer": "ipython3",
   "version": "3.5.2"
  }
 },
 "nbformat": 4,
 "nbformat_minor": 1
}
