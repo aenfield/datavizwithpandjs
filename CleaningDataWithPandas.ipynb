{
 "cells": [
  {
   "cell_type": "code",
   "execution_count": 50,
   "metadata": {
    "collapsed": true
   },
   "outputs": [],
   "source": [
    "import pandas as pd\n",
    "import numpy as np\n",
    "import pymongo"
   ]
  },
  {
   "cell_type": "markdown",
   "metadata": {},
   "source": [
    "# Functions"
   ]
  },
  {
   "cell_type": "markdown",
   "metadata": {},
   "source": [
    "As a side note, here's how to delete the Mongo database, using the mongo shell:\n",
    "\n",
    "    (from a command prompt) mongo shell\n",
    "    use nobel_prize\n",
    "    db.dropDatabase()"
   ]
  },
  {
   "cell_type": "code",
   "execution_count": 65,
   "metadata": {
    "collapsed": true
   },
   "outputs": [],
   "source": [
    "def get_mongo_database(db_name, host='localhost', \n",
    "                       port=27017, username=None, password=None):\n",
    "    if username and password:\n",
    "        mongo_uri = 'mongodb://%s:%s@%s/%s'%(username, password, host, db_name)\n",
    "        conn = pymongo.MongoClient(mongo_uri)\n",
    "    else:\n",
    "        conn = pymongo.MongoClient(host, port)\n",
    "        \n",
    "    return conn[db_name]\n",
    "\n",
    "def mongo_to_dataframe(db_name, collection, query={},\n",
    "                       host='localhost', port=27017,\n",
    "                       username=None, password=None, no_id=True):\n",
    "    db = get_mongo_database(db_name, host, port, username, password)\n",
    "    \n",
    "    cursor = db[collection].find(query)\n",
    "    df = pd.DataFrame(list(cursor))\n",
    "    \n",
    "    if no_id:\n",
    "        del df['_id']\n",
    "    \n",
    "    return df\n",
    "\n",
    "def dataframe_to_mongo(df, db_name, collection,\n",
    "                       host='localhost', port=27017,\n",
    "                       username=None, password=None):\n",
    "    db = get_mongo_database(db_name, host, port, username, password)\n",
    "    records = df.to_dict('records')\n",
    "    db[collection].insert_many(records)"
   ]
  },
  {
   "cell_type": "code",
   "execution_count": 66,
   "metadata": {
    "collapsed": true
   },
   "outputs": [],
   "source": [
    "MONGO_DB_NAME = 'nobel_prize'\n",
    "MONGO_COLL_NAME_WINNERS = 'winners'"
   ]
  },
  {
   "cell_type": "markdown",
   "metadata": {},
   "source": [
    "# Load from .json into Mongo"
   ]
  },
  {
   "cell_type": "code",
   "execution_count": 67,
   "metadata": {
    "collapsed": false
   },
   "outputs": [
    {
     "data": {
      "text/plain": [
       "(1106, 12)"
      ]
     },
     "execution_count": 67,
     "metadata": {},
     "output_type": "execute_result"
    }
   ],
   "source": [
    "# at least once, let's load the contents of the json we ended up with\n",
    "# into Mongo, and then, I guess, we'll use the data from Mongo\n",
    "# good for practice, I suppose\n",
    "df = pd.read_json('nobel_winners_scrapy/nobel_winners.json')\n",
    "df.shape"
   ]
  },
  {
   "cell_type": "code",
   "execution_count": 68,
   "metadata": {
    "collapsed": false
   },
   "outputs": [
    {
     "data": {
      "text/html": [
       "<div>\n",
       "<table border=\"1\" class=\"dataframe\">\n",
       "  <thead>\n",
       "    <tr style=\"text-align: right;\">\n",
       "      <th></th>\n",
       "      <th>born_in</th>\n",
       "      <th>category</th>\n",
       "      <th>country</th>\n",
       "      <th>date_of_birth</th>\n",
       "      <th>date_of_death</th>\n",
       "      <th>gender</th>\n",
       "      <th>link</th>\n",
       "      <th>name</th>\n",
       "      <th>place_of_birth</th>\n",
       "      <th>place_of_death</th>\n",
       "      <th>text</th>\n",
       "      <th>year</th>\n",
       "    </tr>\n",
       "  </thead>\n",
       "  <tbody>\n",
       "    <tr>\n",
       "      <th>0</th>\n",
       "      <td></td>\n",
       "      <td>Physics</td>\n",
       "      <td>Australia</td>\n",
       "      <td>24 February 1967</td>\n",
       "      <td>NaN</td>\n",
       "      <td>male</td>\n",
       "      <td>https://en.wikipedia.org/wiki/Brian_Schmidt</td>\n",
       "      <td>Brian Schmidt</td>\n",
       "      <td>Missoula</td>\n",
       "      <td>NaN</td>\n",
       "      <td>Brian Schmidt ,  born in the United States , P...</td>\n",
       "      <td>2011</td>\n",
       "    </tr>\n",
       "    <tr>\n",
       "      <th>1</th>\n",
       "      <td>Australia</td>\n",
       "      <td>Physiology or Medicine</td>\n",
       "      <td></td>\n",
       "      <td>26 November 1948</td>\n",
       "      <td>NaN</td>\n",
       "      <td>female</td>\n",
       "      <td>https://en.wikipedia.org/wiki/Elizabeth_Blackburn</td>\n",
       "      <td>Elizabeth Blackburn *</td>\n",
       "      <td>Hobart</td>\n",
       "      <td>NaN</td>\n",
       "      <td>Elizabeth Blackburn *, Physiology or Medicine,...</td>\n",
       "      <td>2009</td>\n",
       "    </tr>\n",
       "  </tbody>\n",
       "</table>\n",
       "</div>"
      ],
      "text/plain": [
       "     born_in                category    country     date_of_birth  \\\n",
       "0                            Physics  Australia  24 February 1967   \n",
       "1  Australia  Physiology or Medicine             26 November 1948   \n",
       "\n",
       "  date_of_death  gender                                               link  \\\n",
       "0           NaN    male        https://en.wikipedia.org/wiki/Brian_Schmidt   \n",
       "1           NaN  female  https://en.wikipedia.org/wiki/Elizabeth_Blackburn   \n",
       "\n",
       "                    name place_of_birth place_of_death  \\\n",
       "0          Brian Schmidt       Missoula            NaN   \n",
       "1  Elizabeth Blackburn *         Hobart            NaN   \n",
       "\n",
       "                                                text  year  \n",
       "0  Brian Schmidt ,  born in the United States , P...  2011  \n",
       "1  Elizabeth Blackburn *, Physiology or Medicine,...  2009  "
      ]
     },
     "execution_count": 68,
     "metadata": {},
     "output_type": "execute_result"
    }
   ],
   "source": [
    "df[:2]"
   ]
  },
  {
   "cell_type": "code",
   "execution_count": 69,
   "metadata": {
    "collapsed": false
   },
   "outputs": [
    {
     "data": {
      "text/plain": [
       "Index(['born_in', 'category', 'country', 'date_of_birth', 'date_of_death',\n",
       "       'gender', 'link', 'name', 'place_of_birth', 'place_of_death', 'text',\n",
       "       'year'],\n",
       "      dtype='object')"
      ]
     },
     "execution_count": 69,
     "metadata": {},
     "output_type": "execute_result"
    }
   ],
   "source": [
    "df.columns"
   ]
  },
  {
   "cell_type": "code",
   "execution_count": 70,
   "metadata": {
    "collapsed": true
   },
   "outputs": [],
   "source": [
    "dataframe_to_mongo(df, MONGO_DB_NAME, MONGO_COLL_NAME_WINNERS)"
   ]
  },
  {
   "cell_type": "markdown",
   "metadata": {},
   "source": [
    "# Load winners data from Mongo"
   ]
  },
  {
   "cell_type": "code",
   "execution_count": 71,
   "metadata": {
    "collapsed": false
   },
   "outputs": [
    {
     "data": {
      "text/plain": [
       "(1106, 12)"
      ]
     },
     "execution_count": 71,
     "metadata": {},
     "output_type": "execute_result"
    }
   ],
   "source": [
    "# and now we'll get the df from Mongo\n",
    "df = mongo_to_dataframe(MONGO_DB_NAME, MONGO_COLL_NAME_WINNERS, no_id=True)\n",
    "df.shape"
   ]
  },
  {
   "cell_type": "code",
   "execution_count": 72,
   "metadata": {
    "collapsed": false
   },
   "outputs": [
    {
     "data": {
      "text/plain": [
       "Index(['born_in', 'category', 'country', 'date_of_birth', 'date_of_death',\n",
       "       'gender', 'link', 'name', 'place_of_birth', 'place_of_death', 'text',\n",
       "       'year'],\n",
       "      dtype='object')"
      ]
     },
     "execution_count": 72,
     "metadata": {},
     "output_type": "execute_result"
    }
   ],
   "source": [
    "df.columns"
   ]
  },
  {
   "cell_type": "code",
   "execution_count": 73,
   "metadata": {
    "collapsed": false
   },
   "outputs": [
    {
     "data": {
      "text/html": [
       "<div>\n",
       "<table border=\"1\" class=\"dataframe\">\n",
       "  <thead>\n",
       "    <tr style=\"text-align: right;\">\n",
       "      <th></th>\n",
       "      <th>born_in</th>\n",
       "      <th>category</th>\n",
       "      <th>country</th>\n",
       "      <th>date_of_birth</th>\n",
       "      <th>date_of_death</th>\n",
       "      <th>gender</th>\n",
       "      <th>link</th>\n",
       "      <th>name</th>\n",
       "      <th>place_of_birth</th>\n",
       "      <th>place_of_death</th>\n",
       "      <th>text</th>\n",
       "      <th>year</th>\n",
       "    </tr>\n",
       "  </thead>\n",
       "  <tbody>\n",
       "    <tr>\n",
       "      <th>0</th>\n",
       "      <td></td>\n",
       "      <td>Physics</td>\n",
       "      <td>Australia</td>\n",
       "      <td>24 February 1967</td>\n",
       "      <td>NaN</td>\n",
       "      <td>male</td>\n",
       "      <td>https://en.wikipedia.org/wiki/Brian_Schmidt</td>\n",
       "      <td>Brian Schmidt</td>\n",
       "      <td>Missoula</td>\n",
       "      <td>NaN</td>\n",
       "      <td>Brian Schmidt ,  born in the United States , P...</td>\n",
       "      <td>2011</td>\n",
       "    </tr>\n",
       "    <tr>\n",
       "      <th>1</th>\n",
       "      <td>Australia</td>\n",
       "      <td>Physiology or Medicine</td>\n",
       "      <td></td>\n",
       "      <td>26 November 1948</td>\n",
       "      <td>NaN</td>\n",
       "      <td>female</td>\n",
       "      <td>https://en.wikipedia.org/wiki/Elizabeth_Blackburn</td>\n",
       "      <td>Elizabeth Blackburn *</td>\n",
       "      <td>Hobart</td>\n",
       "      <td>NaN</td>\n",
       "      <td>Elizabeth Blackburn *, Physiology or Medicine,...</td>\n",
       "      <td>2009</td>\n",
       "    </tr>\n",
       "  </tbody>\n",
       "</table>\n",
       "</div>"
      ],
      "text/plain": [
       "     born_in                category    country     date_of_birth  \\\n",
       "0                            Physics  Australia  24 February 1967   \n",
       "1  Australia  Physiology or Medicine             26 November 1948   \n",
       "\n",
       "  date_of_death  gender                                               link  \\\n",
       "0           NaN    male        https://en.wikipedia.org/wiki/Brian_Schmidt   \n",
       "1           NaN  female  https://en.wikipedia.org/wiki/Elizabeth_Blackburn   \n",
       "\n",
       "                    name place_of_birth place_of_death  \\\n",
       "0          Brian Schmidt       Missoula            NaN   \n",
       "1  Elizabeth Blackburn *         Hobart            NaN   \n",
       "\n",
       "                                                text  year  \n",
       "0  Brian Schmidt ,  born in the United States , P...  2011  \n",
       "1  Elizabeth Blackburn *, Physiology or Medicine,...  2009  "
      ]
     },
     "execution_count": 73,
     "metadata": {},
     "output_type": "execute_result"
    }
   ],
   "source": [
    "df[:2]"
   ]
  },
  {
   "cell_type": "markdown",
   "metadata": {},
   "source": [
    "# Initial data inspection"
   ]
  },
  {
   "cell_type": "code",
   "execution_count": 74,
   "metadata": {
    "collapsed": false
   },
   "outputs": [
    {
     "name": "stdout",
     "output_type": "stream",
     "text": [
      "<class 'pandas.core.frame.DataFrame'>\n",
      "RangeIndex: 1106 entries, 0 to 1105\n",
      "Data columns (total 12 columns):\n",
      "born_in           1106 non-null object\n",
      "category          1106 non-null object\n",
      "country           1106 non-null object\n",
      "date_of_birth     1097 non-null object\n",
      "date_of_death     725 non-null object\n",
      "gender            1097 non-null object\n",
      "link              1106 non-null object\n",
      "name              1106 non-null object\n",
      "place_of_birth    1097 non-null object\n",
      "place_of_death    725 non-null object\n",
      "text              1106 non-null object\n",
      "year              1106 non-null int64\n",
      "dtypes: int64(1), object(11)\n",
      "memory usage: 103.8+ KB\n"
     ]
    }
   ],
   "source": [
    "df.info()"
   ]
  },
  {
   "cell_type": "code",
   "execution_count": 75,
   "metadata": {
    "collapsed": false
   },
   "outputs": [
    {
     "data": {
      "text/html": [
       "<div>\n",
       "<table border=\"1\" class=\"dataframe\">\n",
       "  <thead>\n",
       "    <tr style=\"text-align: right;\">\n",
       "      <th></th>\n",
       "      <th>year</th>\n",
       "    </tr>\n",
       "  </thead>\n",
       "  <tbody>\n",
       "    <tr>\n",
       "      <th>count</th>\n",
       "      <td>1106.000000</td>\n",
       "    </tr>\n",
       "    <tr>\n",
       "      <th>mean</th>\n",
       "      <td>1968.169078</td>\n",
       "    </tr>\n",
       "    <tr>\n",
       "      <th>std</th>\n",
       "      <td>68.065801</td>\n",
       "    </tr>\n",
       "    <tr>\n",
       "      <th>min</th>\n",
       "      <td>0.000000</td>\n",
       "    </tr>\n",
       "    <tr>\n",
       "      <th>25%</th>\n",
       "      <td>1948.000000</td>\n",
       "    </tr>\n",
       "    <tr>\n",
       "      <th>50%</th>\n",
       "      <td>1976.000000</td>\n",
       "    </tr>\n",
       "    <tr>\n",
       "      <th>75%</th>\n",
       "      <td>1998.000000</td>\n",
       "    </tr>\n",
       "    <tr>\n",
       "      <th>max</th>\n",
       "      <td>2016.000000</td>\n",
       "    </tr>\n",
       "  </tbody>\n",
       "</table>\n",
       "</div>"
      ],
      "text/plain": [
       "              year\n",
       "count  1106.000000\n",
       "mean   1968.169078\n",
       "std      68.065801\n",
       "min       0.000000\n",
       "25%    1948.000000\n",
       "50%    1976.000000\n",
       "75%    1998.000000\n",
       "max    2016.000000"
      ]
     },
     "execution_count": 75,
     "metadata": {},
     "output_type": "execute_result"
    }
   ],
   "source": [
    "df.describe()"
   ]
  },
  {
   "cell_type": "code",
   "execution_count": 76,
   "metadata": {
    "collapsed": false
   },
   "outputs": [
    {
     "data": {
      "text/html": [
       "<div>\n",
       "<table border=\"1\" class=\"dataframe\">\n",
       "  <thead>\n",
       "    <tr style=\"text-align: right;\">\n",
       "      <th></th>\n",
       "      <th>born_in</th>\n",
       "      <th>category</th>\n",
       "      <th>country</th>\n",
       "      <th>date_of_birth</th>\n",
       "      <th>date_of_death</th>\n",
       "      <th>gender</th>\n",
       "      <th>link</th>\n",
       "      <th>name</th>\n",
       "      <th>place_of_birth</th>\n",
       "      <th>place_of_death</th>\n",
       "      <th>text</th>\n",
       "    </tr>\n",
       "  </thead>\n",
       "  <tbody>\n",
       "    <tr>\n",
       "      <th>count</th>\n",
       "      <td>1106</td>\n",
       "      <td>1106</td>\n",
       "      <td>1106</td>\n",
       "      <td>1097</td>\n",
       "      <td>725</td>\n",
       "      <td>1097</td>\n",
       "      <td>1106</td>\n",
       "      <td>1106</td>\n",
       "      <td>1097</td>\n",
       "      <td>725</td>\n",
       "      <td>1106</td>\n",
       "    </tr>\n",
       "    <tr>\n",
       "      <th>unique</th>\n",
       "      <td>40</td>\n",
       "      <td>7</td>\n",
       "      <td>64</td>\n",
       "      <td>868</td>\n",
       "      <td>580</td>\n",
       "      <td>2</td>\n",
       "      <td>913</td>\n",
       "      <td>1024</td>\n",
       "      <td>605</td>\n",
       "      <td>313</td>\n",
       "      <td>1089</td>\n",
       "    </tr>\n",
       "    <tr>\n",
       "      <th>top</th>\n",
       "      <td></td>\n",
       "      <td>Physiology or Medicine</td>\n",
       "      <td>United States</td>\n",
       "      <td>15 March 1930</td>\n",
       "      <td>9 March 1992</td>\n",
       "      <td>male</td>\n",
       "      <td>https://en.wikipedia.org/wiki/Marie_Curie</td>\n",
       "      <td>César Milstein</td>\n",
       "      <td>New York City</td>\n",
       "      <td>Cambridge</td>\n",
       "      <td>Michael Levitt *,  as an  Israeli  citizen , C...</td>\n",
       "    </tr>\n",
       "    <tr>\n",
       "      <th>freq</th>\n",
       "      <td>943</td>\n",
       "      <td>262</td>\n",
       "      <td>351</td>\n",
       "      <td>4</td>\n",
       "      <td>4</td>\n",
       "      <td>1036</td>\n",
       "      <td>4</td>\n",
       "      <td>3</td>\n",
       "      <td>47</td>\n",
       "      <td>37</td>\n",
       "      <td>3</td>\n",
       "    </tr>\n",
       "  </tbody>\n",
       "</table>\n",
       "</div>"
      ],
      "text/plain": [
       "       born_in                category        country  date_of_birth  \\\n",
       "count     1106                    1106           1106           1097   \n",
       "unique      40                       7             64            868   \n",
       "top             Physiology or Medicine  United States  15 March 1930   \n",
       "freq       943                     262            351              4   \n",
       "\n",
       "       date_of_death gender                                       link  \\\n",
       "count            725   1097                                       1106   \n",
       "unique           580      2                                        913   \n",
       "top     9 March 1992   male  https://en.wikipedia.org/wiki/Marie_Curie   \n",
       "freq               4   1036                                          4   \n",
       "\n",
       "                  name place_of_birth place_of_death  \\\n",
       "count             1106           1097            725   \n",
       "unique            1024            605            313   \n",
       "top     César Milstein  New York City      Cambridge   \n",
       "freq                 3             47             37   \n",
       "\n",
       "                                                     text  \n",
       "count                                                1106  \n",
       "unique                                               1089  \n",
       "top     Michael Levitt *,  as an  Israeli  citizen , C...  \n",
       "freq                                                    3  "
      ]
     },
     "execution_count": 76,
     "metadata": {},
     "output_type": "execute_result"
    }
   ],
   "source": [
    "df.describe(include=['object'])"
   ]
  },
  {
   "cell_type": "code",
   "execution_count": 77,
   "metadata": {
    "collapsed": false
   },
   "outputs": [
    {
     "data": {
      "text/html": [
       "<div>\n",
       "<table border=\"1\" class=\"dataframe\">\n",
       "  <thead>\n",
       "    <tr style=\"text-align: right;\">\n",
       "      <th></th>\n",
       "      <th>born_in</th>\n",
       "      <th>category</th>\n",
       "      <th>country</th>\n",
       "      <th>date_of_birth</th>\n",
       "      <th>date_of_death</th>\n",
       "      <th>gender</th>\n",
       "      <th>link</th>\n",
       "      <th>name</th>\n",
       "      <th>place_of_birth</th>\n",
       "      <th>place_of_death</th>\n",
       "      <th>text</th>\n",
       "      <th>year</th>\n",
       "    </tr>\n",
       "  </thead>\n",
       "  <tbody>\n",
       "    <tr>\n",
       "      <th>0</th>\n",
       "      <td></td>\n",
       "      <td>Physics</td>\n",
       "      <td>Australia</td>\n",
       "      <td>24 February 1967</td>\n",
       "      <td>NaN</td>\n",
       "      <td>male</td>\n",
       "      <td>https://en.wikipedia.org/wiki/Brian_Schmidt</td>\n",
       "      <td>Brian Schmidt</td>\n",
       "      <td>Missoula</td>\n",
       "      <td>NaN</td>\n",
       "      <td>Brian Schmidt ,  born in the United States , P...</td>\n",
       "      <td>2011</td>\n",
       "    </tr>\n",
       "    <tr>\n",
       "      <th>1</th>\n",
       "      <td>Australia</td>\n",
       "      <td>Physiology or Medicine</td>\n",
       "      <td></td>\n",
       "      <td>26 November 1948</td>\n",
       "      <td>NaN</td>\n",
       "      <td>female</td>\n",
       "      <td>https://en.wikipedia.org/wiki/Elizabeth_Blackburn</td>\n",
       "      <td>Elizabeth Blackburn *</td>\n",
       "      <td>Hobart</td>\n",
       "      <td>NaN</td>\n",
       "      <td>Elizabeth Blackburn *, Physiology or Medicine,...</td>\n",
       "      <td>2009</td>\n",
       "    </tr>\n",
       "    <tr>\n",
       "      <th>2</th>\n",
       "      <td></td>\n",
       "      <td>Chemistry</td>\n",
       "      <td>Germany</td>\n",
       "      <td>26 November 1898</td>\n",
       "      <td>12 August 1973</td>\n",
       "      <td>male</td>\n",
       "      <td>https://en.wikipedia.org/wiki/Karl_Ziegler</td>\n",
       "      <td>Karl Ziegler</td>\n",
       "      <td>Helsa</td>\n",
       "      <td>Mülheim</td>\n",
       "      <td>Karl Ziegler , Chemistry, 1963</td>\n",
       "      <td>1963</td>\n",
       "    </tr>\n",
       "    <tr>\n",
       "      <th>3</th>\n",
       "      <td>Germany</td>\n",
       "      <td>Physics</td>\n",
       "      <td></td>\n",
       "      <td>28 June 1906</td>\n",
       "      <td>20 February 1972</td>\n",
       "      <td>female</td>\n",
       "      <td>https://en.wikipedia.org/wiki/Maria_Goeppert-M...</td>\n",
       "      <td>Maria Goeppert-Mayer *</td>\n",
       "      <td>Katowice</td>\n",
       "      <td>San Diego</td>\n",
       "      <td>Maria Goeppert-Mayer *, Physics, 1963</td>\n",
       "      <td>1963</td>\n",
       "    </tr>\n",
       "    <tr>\n",
       "      <th>4</th>\n",
       "      <td></td>\n",
       "      <td>Physics</td>\n",
       "      <td>Germany</td>\n",
       "      <td>25 June 1907</td>\n",
       "      <td>11 February 1973</td>\n",
       "      <td>male</td>\n",
       "      <td>https://en.wikipedia.org/wiki/J._Hans_D._Jensen</td>\n",
       "      <td>J. Hans D. Jensen</td>\n",
       "      <td>Hamburg</td>\n",
       "      <td>Heidelberg</td>\n",
       "      <td>J. Hans D. Jensen , Physics, 1963</td>\n",
       "      <td>1963</td>\n",
       "    </tr>\n",
       "  </tbody>\n",
       "</table>\n",
       "</div>"
      ],
      "text/plain": [
       "     born_in                category    country     date_of_birth  \\\n",
       "0                            Physics  Australia  24 February 1967   \n",
       "1  Australia  Physiology or Medicine             26 November 1948   \n",
       "2                          Chemistry    Germany  26 November 1898   \n",
       "3    Germany                 Physics                 28 June 1906   \n",
       "4                            Physics    Germany      25 June 1907   \n",
       "\n",
       "      date_of_death  gender  \\\n",
       "0               NaN    male   \n",
       "1               NaN  female   \n",
       "2    12 August 1973    male   \n",
       "3  20 February 1972  female   \n",
       "4  11 February 1973    male   \n",
       "\n",
       "                                                link                    name  \\\n",
       "0        https://en.wikipedia.org/wiki/Brian_Schmidt           Brian Schmidt   \n",
       "1  https://en.wikipedia.org/wiki/Elizabeth_Blackburn   Elizabeth Blackburn *   \n",
       "2         https://en.wikipedia.org/wiki/Karl_Ziegler            Karl Ziegler   \n",
       "3  https://en.wikipedia.org/wiki/Maria_Goeppert-M...  Maria Goeppert-Mayer *   \n",
       "4    https://en.wikipedia.org/wiki/J._Hans_D._Jensen       J. Hans D. Jensen   \n",
       "\n",
       "  place_of_birth place_of_death  \\\n",
       "0       Missoula            NaN   \n",
       "1         Hobart            NaN   \n",
       "2          Helsa        Mülheim   \n",
       "3       Katowice      San Diego   \n",
       "4        Hamburg     Heidelberg   \n",
       "\n",
       "                                                text  year  \n",
       "0  Brian Schmidt ,  born in the United States , P...  2011  \n",
       "1  Elizabeth Blackburn *, Physiology or Medicine,...  2009  \n",
       "2                     Karl Ziegler , Chemistry, 1963  1963  \n",
       "3              Maria Goeppert-Mayer *, Physics, 1963  1963  \n",
       "4                  J. Hans D. Jensen , Physics, 1963  1963  "
      ]
     },
     "execution_count": 77,
     "metadata": {},
     "output_type": "execute_result"
    }
   ],
   "source": [
    "df.head()"
   ]
  },
  {
   "cell_type": "code",
   "execution_count": 78,
   "metadata": {
    "collapsed": false
   },
   "outputs": [
    {
     "data": {
      "text/plain": [
       "0                             \n",
       "1                    Australia\n",
       "2                             \n",
       "3                      Germany\n",
       "4                             \n",
       "5                             \n",
       "6                             \n",
       "7                      Germany\n",
       "8                             \n",
       "9                      Germany\n",
       "10                            \n",
       "11                            \n",
       "12                            \n",
       "13                            \n",
       "14                            \n",
       "15                      Poland\n",
       "16                      Poland\n",
       "17                      Poland\n",
       "18                            \n",
       "19                      Poland\n",
       "20                 Netherlands\n",
       "21                            \n",
       "22                            \n",
       "23                            \n",
       "24                            \n",
       "25                            \n",
       "26                            \n",
       "27                South Africa\n",
       "28                            \n",
       "29                            \n",
       "                 ...          \n",
       "1076                          \n",
       "1077                          \n",
       "1078                          \n",
       "1079                          \n",
       "1080                          \n",
       "1081                          \n",
       "1082    Bosnia and Herzegovina\n",
       "1083                    Canada\n",
       "1084                          \n",
       "1085                          \n",
       "1086                          \n",
       "1087                   Belarus\n",
       "1088                   Belarus\n",
       "1089                   Belarus\n",
       "1090                   Belarus\n",
       "1091                   Austria\n",
       "1092                          \n",
       "1093                          \n",
       "1094                          \n",
       "1095                          \n",
       "1096                          \n",
       "1097                          \n",
       "1098                          \n",
       "1099                          \n",
       "1100                          \n",
       "1101                          \n",
       "1102                          \n",
       "1103                          \n",
       "1104                          \n",
       "1105                   Austria\n",
       "Name: born_in, dtype: object"
      ]
     },
     "execution_count": 78,
     "metadata": {},
     "output_type": "execute_result"
    }
   ],
   "source": [
    "df['born_in']"
   ]
  },
  {
   "cell_type": "code",
   "execution_count": 79,
   "metadata": {
    "collapsed": false
   },
   "outputs": [
    {
     "data": {
      "text/plain": [
       "count     1106\n",
       "unique      40\n",
       "top           \n",
       "freq       943\n",
       "Name: born_in, dtype: object"
      ]
     },
     "execution_count": 79,
     "metadata": {},
     "output_type": "execute_result"
    }
   ],
   "source": [
    "df.born_in.describe()"
   ]
  },
  {
   "cell_type": "code",
   "execution_count": 80,
   "metadata": {
    "collapsed": false
   },
   "outputs": [
    {
     "data": {
      "text/plain": [
       "{str}"
      ]
     },
     "execution_count": 80,
     "metadata": {},
     "output_type": "execute_result"
    }
   ],
   "source": [
    "set(df['born_in'].apply(type))"
   ]
  },
  {
   "cell_type": "code",
   "execution_count": 81,
   "metadata": {
    "collapsed": false
   },
   "outputs": [],
   "source": [
    "df['born_in'].replace('', np.nan, inplace=True)"
   ]
  },
  {
   "cell_type": "code",
   "execution_count": 82,
   "metadata": {
    "collapsed": false
   },
   "outputs": [
    {
     "data": {
      "text/plain": [
       "count         163\n",
       "unique         39\n",
       "top       Germany\n",
       "freq           24\n",
       "Name: born_in, dtype: object"
      ]
     },
     "execution_count": 82,
     "metadata": {},
     "output_type": "execute_result"
    }
   ],
   "source": [
    "df['born_in'].describe()"
   ]
  },
  {
   "cell_type": "markdown",
   "metadata": {},
   "source": [
    "And we can use replace generally w/ the dataframe to replace all empty strings with NaN."
   ]
  },
  {
   "cell_type": "code",
   "execution_count": 83,
   "metadata": {
    "collapsed": true
   },
   "outputs": [],
   "source": [
    "df.replace('', np.nan, inplace=True)"
   ]
  },
  {
   "cell_type": "code",
   "execution_count": 84,
   "metadata": {
    "collapsed": false
   },
   "outputs": [
    {
     "data": {
      "text/html": [
       "<div>\n",
       "<table border=\"1\" class=\"dataframe\">\n",
       "  <thead>\n",
       "    <tr style=\"text-align: right;\">\n",
       "      <th></th>\n",
       "      <th>born_in</th>\n",
       "      <th>category</th>\n",
       "      <th>country</th>\n",
       "      <th>date_of_birth</th>\n",
       "      <th>date_of_death</th>\n",
       "      <th>gender</th>\n",
       "      <th>link</th>\n",
       "      <th>name</th>\n",
       "      <th>place_of_birth</th>\n",
       "      <th>place_of_death</th>\n",
       "      <th>text</th>\n",
       "    </tr>\n",
       "  </thead>\n",
       "  <tbody>\n",
       "    <tr>\n",
       "      <th>count</th>\n",
       "      <td>163</td>\n",
       "      <td>1102</td>\n",
       "      <td>943</td>\n",
       "      <td>1097</td>\n",
       "      <td>725</td>\n",
       "      <td>1097</td>\n",
       "      <td>1106</td>\n",
       "      <td>1106</td>\n",
       "      <td>1097</td>\n",
       "      <td>725</td>\n",
       "      <td>1106</td>\n",
       "    </tr>\n",
       "    <tr>\n",
       "      <th>unique</th>\n",
       "      <td>39</td>\n",
       "      <td>6</td>\n",
       "      <td>63</td>\n",
       "      <td>868</td>\n",
       "      <td>580</td>\n",
       "      <td>2</td>\n",
       "      <td>913</td>\n",
       "      <td>1024</td>\n",
       "      <td>605</td>\n",
       "      <td>313</td>\n",
       "      <td>1089</td>\n",
       "    </tr>\n",
       "    <tr>\n",
       "      <th>top</th>\n",
       "      <td>Germany</td>\n",
       "      <td>Physiology or Medicine</td>\n",
       "      <td>United States</td>\n",
       "      <td>15 March 1930</td>\n",
       "      <td>9 March 1992</td>\n",
       "      <td>male</td>\n",
       "      <td>https://en.wikipedia.org/wiki/Marie_Curie</td>\n",
       "      <td>César Milstein</td>\n",
       "      <td>New York City</td>\n",
       "      <td>Cambridge</td>\n",
       "      <td>Michael Levitt *,  as an  Israeli  citizen , C...</td>\n",
       "    </tr>\n",
       "    <tr>\n",
       "      <th>freq</th>\n",
       "      <td>24</td>\n",
       "      <td>262</td>\n",
       "      <td>351</td>\n",
       "      <td>4</td>\n",
       "      <td>4</td>\n",
       "      <td>1036</td>\n",
       "      <td>4</td>\n",
       "      <td>3</td>\n",
       "      <td>47</td>\n",
       "      <td>37</td>\n",
       "      <td>3</td>\n",
       "    </tr>\n",
       "  </tbody>\n",
       "</table>\n",
       "</div>"
      ],
      "text/plain": [
       "        born_in                category        country  date_of_birth  \\\n",
       "count       163                    1102            943           1097   \n",
       "unique       39                       6             63            868   \n",
       "top     Germany  Physiology or Medicine  United States  15 March 1930   \n",
       "freq         24                     262            351              4   \n",
       "\n",
       "       date_of_death gender                                       link  \\\n",
       "count            725   1097                                       1106   \n",
       "unique           580      2                                        913   \n",
       "top     9 March 1992   male  https://en.wikipedia.org/wiki/Marie_Curie   \n",
       "freq               4   1036                                          4   \n",
       "\n",
       "                  name place_of_birth place_of_death  \\\n",
       "count             1106           1097            725   \n",
       "unique            1024            605            313   \n",
       "top     César Milstein  New York City      Cambridge   \n",
       "freq                 3             47             37   \n",
       "\n",
       "                                                     text  \n",
       "count                                                1106  \n",
       "unique                                               1089  \n",
       "top     Michael Levitt *,  as an  Israeli  citizen , C...  \n",
       "freq                                                    3  "
      ]
     },
     "execution_count": 84,
     "metadata": {},
     "output_type": "execute_result"
    }
   ],
   "source": [
    "df.describe(include=['object'])"
   ]
  },
  {
   "cell_type": "markdown",
   "metadata": {},
   "source": [
    "Asterisks in the name field mean that these winners are recorded by country of birth, not by country at the time of winning the prize. We want to remove the asterisks and any additional whitespace."
   ]
  },
  {
   "cell_type": "code",
   "execution_count": 86,
   "metadata": {
    "collapsed": false
   },
   "outputs": [
    {
     "data": {
      "text/plain": [
       "1              Elizabeth Blackburn *\n",
       "3             Maria Goeppert-Mayer *\n",
       "7                 Jack Steinberger *\n",
       "9                     John Polanyi *\n",
       "15                  Joseph Rotblat *\n",
       "16                    Shimon Peres *\n",
       "17                 Georges Charpak *\n",
       "19                  Roald Hoffmann *\n",
       "20            Nicolaas Bloembergen *\n",
       "27                Allan M. Cormack *\n",
       "100                    T. S. Eliot *\n",
       "161             Har Gobind Khorana *\n",
       "187               Ben R. Mottelson *\n",
       "224                 Czesław Miłosz *\n",
       "245     Subrahmanyan Chandrasekhar *\n",
       "332                Daniel Kahneman *\n",
       "336                  Robert Aumann *\n",
       "346                Rudyard Kipling *\n",
       "351                    Ronald Ross *\n",
       "357       Venkatraman Ramakrishnan *\n",
       "389                 Shuji Nakamura *\n",
       "390                   John O'Keefe *\n",
       "394                  Arieh Warshel *\n",
       "395                 Michael Levitt *\n",
       "416                 Michael Levitt *\n",
       "419     John James Rickard Macleod *\n",
       "452                Oliver Smithies *\n",
       "466              Christian de Duve *\n",
       "470                  Patrick White *\n",
       "488                   Severo Ochoa *\n",
       "                    ...             \n",
       "1021               Vladimir Prelog *\n",
       "1027               Ei-ichi Negishi *\n",
       "1028                Charles K. Kao *\n",
       "1029                  Gao Xingjian *\n",
       "1030                Daniel C. Tsui *\n",
       "1031             Edmond H. Fischer *\n",
       "1032           Alexander Prokhorov *\n",
       "1036                Martin Karplus *\n",
       "1039             Ernest Rutherford *\n",
       "1045            Charles B. Huggins *\n",
       "1047               William Giauque *\n",
       "1048                   Eric Kandel *\n",
       "1049                   Walter Kohn *\n",
       "1052               Karl von Frisch *\n",
       "1054               William Vickrey *\n",
       "1058             Rudolph A. Marcus *\n",
       "1062                   Henry Taube *\n",
       "1063                David H. Hubel *\n",
       "1064                   Saul Bellow *\n",
       "1066                    Ivo Andrić *\n",
       "1068                 Elias Canetti *\n",
       "1072                 Willard Boyle *\n",
       "1082               Vladimir Prelog *\n",
       "1083                 Myron Scholes *\n",
       "1087                Zhores Alferov *\n",
       "1088                  Shimon Peres *\n",
       "1089                Menachem Begin *\n",
       "1090                 Simon Kuznets *\n",
       "1091                    Otto Loewi *\n",
       "1105                  Richard Kuhn *\n",
       "Name: name, dtype: object"
      ]
     },
     "execution_count": 86,
     "metadata": {},
     "output_type": "execute_result"
    }
   ],
   "source": [
    "# how many?\n",
    "#df[df.name.str.contains('\\*')]['name']\n",
    "df[df['name'].str.contains('\\*')]['name']"
   ]
  },
  {
   "cell_type": "code",
   "execution_count": 87,
   "metadata": {
    "collapsed": true
   },
   "outputs": [],
   "source": [
    "df['name'] = df['name'].str.replace('*','')\n",
    "df['name'] = df['name'].str.strip()"
   ]
  },
  {
   "cell_type": "code",
   "execution_count": 88,
   "metadata": {
    "collapsed": false
   },
   "outputs": [
    {
     "data": {
      "text/html": [
       "<div>\n",
       "<table border=\"1\" class=\"dataframe\">\n",
       "  <thead>\n",
       "    <tr style=\"text-align: right;\">\n",
       "      <th></th>\n",
       "      <th>born_in</th>\n",
       "      <th>category</th>\n",
       "      <th>country</th>\n",
       "      <th>date_of_birth</th>\n",
       "      <th>date_of_death</th>\n",
       "      <th>gender</th>\n",
       "      <th>link</th>\n",
       "      <th>name</th>\n",
       "      <th>place_of_birth</th>\n",
       "      <th>place_of_death</th>\n",
       "      <th>text</th>\n",
       "      <th>year</th>\n",
       "    </tr>\n",
       "  </thead>\n",
       "  <tbody>\n",
       "  </tbody>\n",
       "</table>\n",
       "</div>"
      ],
      "text/plain": [
       "Empty DataFrame\n",
       "Columns: [born_in, category, country, date_of_birth, date_of_death, gender, link, name, place_of_birth, place_of_death, text, year]\n",
       "Index: []"
      ]
     },
     "execution_count": 88,
     "metadata": {},
     "output_type": "execute_result"
    }
   ],
   "source": [
    "df[df['name'].str.contains('\\*')]"
   ]
  },
  {
   "cell_type": "markdown",
   "metadata": {},
   "source": [
    "The winner rows that have values for the born_in field are duplicates, because they have an entry in Wikipedia both for the county in which they were born and their country at the time they were awarded the prize. We only want a single row per winner, so we'll only take the winner rows that don't have a born_in value."
   ]
  },
  {
   "cell_type": "code",
   "execution_count": 89,
   "metadata": {
    "collapsed": false
   },
   "outputs": [
    {
     "data": {
      "text/html": [
       "<div>\n",
       "<table border=\"1\" class=\"dataframe\">\n",
       "  <thead>\n",
       "    <tr style=\"text-align: right;\">\n",
       "      <th></th>\n",
       "      <th>category</th>\n",
       "      <th>country</th>\n",
       "      <th>date_of_birth</th>\n",
       "      <th>date_of_death</th>\n",
       "      <th>gender</th>\n",
       "      <th>link</th>\n",
       "      <th>name</th>\n",
       "      <th>place_of_birth</th>\n",
       "      <th>place_of_death</th>\n",
       "      <th>text</th>\n",
       "      <th>year</th>\n",
       "    </tr>\n",
       "  </thead>\n",
       "  <tbody>\n",
       "    <tr>\n",
       "      <th>0</th>\n",
       "      <td>Physics</td>\n",
       "      <td>Australia</td>\n",
       "      <td>24 February 1967</td>\n",
       "      <td>NaN</td>\n",
       "      <td>male</td>\n",
       "      <td>https://en.wikipedia.org/wiki/Brian_Schmidt</td>\n",
       "      <td>Brian Schmidt</td>\n",
       "      <td>Missoula</td>\n",
       "      <td>NaN</td>\n",
       "      <td>Brian Schmidt ,  born in the United States , P...</td>\n",
       "      <td>2011</td>\n",
       "    </tr>\n",
       "    <tr>\n",
       "      <th>2</th>\n",
       "      <td>Chemistry</td>\n",
       "      <td>Germany</td>\n",
       "      <td>26 November 1898</td>\n",
       "      <td>12 August 1973</td>\n",
       "      <td>male</td>\n",
       "      <td>https://en.wikipedia.org/wiki/Karl_Ziegler</td>\n",
       "      <td>Karl Ziegler</td>\n",
       "      <td>Helsa</td>\n",
       "      <td>Mülheim</td>\n",
       "      <td>Karl Ziegler , Chemistry, 1963</td>\n",
       "      <td>1963</td>\n",
       "    </tr>\n",
       "    <tr>\n",
       "      <th>4</th>\n",
       "      <td>Physics</td>\n",
       "      <td>Germany</td>\n",
       "      <td>25 June 1907</td>\n",
       "      <td>11 February 1973</td>\n",
       "      <td>male</td>\n",
       "      <td>https://en.wikipedia.org/wiki/J._Hans_D._Jensen</td>\n",
       "      <td>J. Hans D. Jensen</td>\n",
       "      <td>Hamburg</td>\n",
       "      <td>Heidelberg</td>\n",
       "      <td>J. Hans D. Jensen , Physics, 1963</td>\n",
       "      <td>1963</td>\n",
       "    </tr>\n",
       "  </tbody>\n",
       "</table>\n",
       "</div>"
      ],
      "text/plain": [
       "    category    country     date_of_birth     date_of_death gender  \\\n",
       "0    Physics  Australia  24 February 1967               NaN   male   \n",
       "2  Chemistry    Germany  26 November 1898    12 August 1973   male   \n",
       "4    Physics    Germany      25 June 1907  11 February 1973   male   \n",
       "\n",
       "                                              link               name  \\\n",
       "0      https://en.wikipedia.org/wiki/Brian_Schmidt      Brian Schmidt   \n",
       "2       https://en.wikipedia.org/wiki/Karl_Ziegler       Karl Ziegler   \n",
       "4  https://en.wikipedia.org/wiki/J._Hans_D._Jensen  J. Hans D. Jensen   \n",
       "\n",
       "  place_of_birth place_of_death  \\\n",
       "0       Missoula            NaN   \n",
       "2          Helsa        Mülheim   \n",
       "4        Hamburg     Heidelberg   \n",
       "\n",
       "                                                text  year  \n",
       "0  Brian Schmidt ,  born in the United States , P...  2011  \n",
       "2                     Karl Ziegler , Chemistry, 1963  1963  \n",
       "4                  J. Hans D. Jensen , Physics, 1963  1963  "
      ]
     },
     "execution_count": 89,
     "metadata": {},
     "output_type": "execute_result"
    }
   ],
   "source": [
    "df = df[df['born_in'].isnull()]\n",
    "df = df.drop('born_in', axis=1)\n",
    "df[:3]"
   ]
  },
  {
   "cell_type": "code",
   "execution_count": 91,
   "metadata": {
    "collapsed": false
   },
   "outputs": [
    {
     "data": {
      "text/plain": [
       "(943, 11)"
      ]
     },
     "execution_count": 91,
     "metadata": {},
     "output_type": "execute_result"
    }
   ],
   "source": [
    "df.shape"
   ]
  },
  {
   "cell_type": "markdown",
   "metadata": {},
   "source": [
    "We think we still have some dupes, because a separate search online shows that 889 folks had received a Nobel Prize through 2014.\n",
    "\n",
    "The 'duplicated' method takes a field/column and returns False for the first occurence of any rows with the same values for the particular field and True for any subsequent occurence. (The call has a param to change this"
   ]
  }
 ],
 "metadata": {
  "anaconda-cloud": {},
  "kernelspec": {
   "display_name": "Python [default]",
   "language": "python",
   "name": "python3"
  },
  "language_info": {
   "codemirror_mode": {
    "name": "ipython",
    "version": 3
   },
   "file_extension": ".py",
   "mimetype": "text/x-python",
   "name": "python",
   "nbconvert_exporter": "python",
   "pygments_lexer": "ipython3",
   "version": "3.5.2"
  }
 },
 "nbformat": 4,
 "nbformat_minor": 1
}
